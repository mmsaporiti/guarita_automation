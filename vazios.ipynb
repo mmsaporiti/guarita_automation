{
 "cells": [
  {
   "cell_type": "code",
   "execution_count": 20,
   "id": "bedc9245",
   "metadata": {},
   "outputs": [
    {
     "name": "stderr",
     "output_type": "stream",
     "text": [
      "C:\\Users\\daiana\\AppData\\Local\\Temp\\ipykernel_9964\\3693453033.py:24: FutureWarning: The default value of regex will change from True to False in a future version. In addition, single character regular expressions will *not* be treated as literal strings when regex=True.\n",
      "  df['Tara'] = df['Tara'].str.replace('.','')\n"
     ]
    }
   ],
   "source": [
    "#pip install webdriver-manager\n",
    "#pip install selenium\n",
    "\n",
    "import pandas as pd\n",
    "from time import sleep\n",
    "from selenium import webdriver\n",
    "from webdriver_manager.chrome import ChromeDriverManager\n",
    "from selenium.webdriver.chrome.service import Service\n",
    "from selenium.webdriver.common.by import By\n",
    "from selenium.webdriver.support.ui import Select\n",
    "\n",
    "#def\n",
    "\n",
    "servico = Service(ChromeDriverManager().install())\n",
    "driver = webdriver.Chrome(service = servico)\n",
    "driver.get(\"https://www.mercante.transportes.gov.br/g36127/servlet/serpro.siscomex.mercante.servlet.MercanteController\")\n",
    "\n",
    "try:\n",
    "    df = pd.read_excel(r'C:\\Users\\daiana\\Desktop\\automacao\\vazios.xlsx')\n",
    "    \n",
    "except:\n",
    "    df = pd.read_excel(r'C:\\Users\\daiana\\Desktop\\automacao\\vazios.xls')\n",
    "\n",
    "guarita_rg_dict = df.to_dict(orient = 'index')"
   ]
  },
  {
   "cell_type": "code",
   "execution_count": 21,
   "id": "a484994c",
   "metadata": {},
   "outputs": [
    {
     "name": "stdout",
     "output_type": "stream",
     "text": [
      "MSMU5549561\n",
      "3700\n",
      "45G1\n",
      "----- next one-----\n",
      "MRKU9951529\n",
      "2180\n",
      "22G1\n",
      "----- next one-----\n",
      "TTNU8498109\n",
      "4700\n",
      "45R1\n",
      "----- next one-----\n",
      "3 containers inseridos\n",
      "Processo finalizado\n"
     ]
    }
   ],
   "source": [
    "count = 0\n",
    "frames = driver.find_elements()\n",
    "driver.switch_to.default_content()\n",
    "driver.switch_to.frame('Principal')\n",
    "\n",
    "while count < len(guarita_rg_dict):\n",
    "    \n",
    "    driver.switch_to.default_content()\n",
    "    driver.switch_to.frame('Principal')\n",
    "    \n",
    "    e = driver.find_element('xpath', \"/html/body/form/table[3]/tbody/tr/td[2]/fieldset/table/tbody/tr[2]/td[1]/input\")\n",
    "    e.send_keys(guarita_rg_dict[count]['Container'])\n",
    "    print(guarita_rg_dict[count]['Container'])\n",
    "    sleep(0.3)\n",
    "    \n",
    "    e = driver.find_element('xpath', '/html/body/form/table[3]/tbody/tr/td[2]/fieldset/table/tbody/tr[2]/td[2]/input' )\n",
    "    e.send_keys(guarita_rg_dict[count]['Tara'])\n",
    "    print(guarita_rg_dict[count]['Tara'])\n",
    "    sleep(0.3)\n",
    "    \n",
    "    e = driver.find_element('xpath', '/html/body/form/table[3]/tbody/tr/td[2]/fieldset/table/tbody/tr[2]/td[3]/input' )\n",
    "    e.send_keys(guarita_rg_dict[count]['ISO'])\n",
    "    print(guarita_rg_dict[count]['ISO'])\n",
    "    sleep(0.3) \n",
    "    \n",
    "    e = driver.find_element('xpath', '/html/body/form/table[3]/tbody/tr/td[2]/fieldset/table/tbody/tr[2]/td[5]/input').click()\n",
    "    if count >= len(guarita_rg_dict):\n",
    "        print('Processo Finalizado')\n",
    "\n",
    "    else: \n",
    "        #input('Aperte enter para prosseguir')\n",
    "\n",
    "        print('----- next one-----')\n",
    "    \n",
    "    count += 1\n",
    "\n",
    "    \n",
    "print(count, 'containers inseridos')    \n",
    "print('Processo finalizado')\n"
   ]
  },
  {
   "cell_type": "code",
   "execution_count": null,
   "id": "e052197d",
   "metadata": {},
   "outputs": [],
   "source": []
  }
 ],
 "metadata": {
  "kernelspec": {
   "display_name": "Python 3 (ipykernel)",
   "language": "python",
   "name": "python3"
  },
  "language_info": {
   "codemirror_mode": {
    "name": "ipython",
    "version": 3
   },
   "file_extension": ".py",
   "mimetype": "text/x-python",
   "name": "python",
   "nbconvert_exporter": "python",
   "pygments_lexer": "ipython3",
   "version": "3.9.12"
  }
 },
 "nbformat": 4,
 "nbformat_minor": 5
}
